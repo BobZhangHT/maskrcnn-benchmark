{
 "cells": [
  {
   "cell_type": "markdown",
   "metadata": {},
   "source": [
    "# The Tutorial to Run `maskrcnn-benchmark` on Server\n",
    "\n",
    "Updates: \n",
    "\n",
    "2019/01/09: add Data Science Bowl 2018 metric and Dice coefficient\n",
    "\n",
    "2019/01/08: add inference tutorial on multi object detection or segmentation\n",
    "\n",
    "2019/01/02: the first version"
   ]
  },
  {
   "cell_type": "code",
   "execution_count": 1,
   "metadata": {},
   "outputs": [],
   "source": [
    "import skimage.io as io\n",
    "import numpy as np\n",
    "import matplotlib.pyplot as plt\n",
    "import pycocotools.mask as mask_utils\n",
    "from pycocotools.coco import COCO"
   ]
  },
  {
   "cell_type": "markdown",
   "metadata": {},
   "source": [
    "## Installation\n",
    "\n",
    "We mainly follow the step-by-step installation suggested in the [official document](https://github.com/facebookresearch/maskrcnn-benchmark/blob/master/INSTALL.md). \n",
    "\n",
    "- **Step 1: Create a New ```conda``` Environment**. A seperate ```conda``` environment guarentees the independency which avoids unnecessary or even harmful changes to the root environment when installing the new packages. Enter ```conda create --name maskrcnn_benchmark``` to initialize the environment (env) and then activate it by ```source activate maskrcnn_benchmark```. Note that we should **activate the env everytime** before the formal implementation.\n",
    "\n",
    "- **Step 2: Install the Required Packages**. \n",
    "    - ipython, yacs, matplotlib, ninja, jupyter notebook.\n",
    "    - GCC >= 4.9 and <= 6.0. \n",
    "    - OpenCV for the webcam demo. \n",
    "    - PyTorch 1.0 and torchvision. [link](https://pytorch.org/get-started/locally/)\n",
    "    - cocoapi (github). [link](https://github.com/cocodataset/cocoapi.git)\n",
    "    - maskrcnn-benchmark (github). [link](https://github.com/facebookresearch/maskrcnn-benchmark)\n",
    "    \n",
    "We can test the deployment by running the ```demo.ipynb``` in ```./demo```."
   ]
  },
  {
   "cell_type": "markdown",
   "metadata": {},
   "source": [
    "## Perform Training on Own Datasets\n",
    "\n",
    "This section mainly follows the instructions in this [post](https://blog.csdn.net/ChuiGeDaQiQiu/article/details/83868512). The main idea is to firstly convert our own datasets into coco data format, and then call the api directly to perform the training. **The difference between this approach and the [fine-tuning way](https://github.com/facebookresearch/maskrcnn-benchmark/issues/15) need to be further investigated.**"
   ]
  },
  {
   "cell_type": "markdown",
   "metadata": {},
   "source": [
    "### Reformat the Custom Datasets\n",
    "- **COCO Data Format**: [official description](http://cocodataset.org/#format-data). \n",
    "    - For image: it's critical to specify the right \"file_name\" (image directory).\n",
    "    - For annotation: \"area\" and \"bbox\" can be computed via pycocotool.mask. \"segmentation\" can be encoded via the following sample codes given the binary image. Also note the value of \"iscrowd\". \n",
    "    - **Note**: all indices in the data dict should **start from 1** to avoid ambiguity in computing AP as 0 has special meaning in the coco api.\n",
    "- **The COCO creator**: \n",
    "    - pycocotools (cocoapi). Especially the ```mask.py``` ([link](https://github.com/cocodataset/cocoapi/blob/master/PythonAPI/pycocotools/mask.py)).\n",
    "    - pycococreator. [link](https://github.com/waspinator/pycococreator)\n",
    "- **Related concepts**:\n",
    "    - **RLE (Run-Length-Encoding)**: [Ref1](https://pws.yazd.ac.ir/latiff/teaching/DIP/13.pdf), [Ref2](https://github.com/cocodataset/cocoapi/blob/master/PythonAPI/pycocotools/mask.py). Note that the binary mask should be **transposed**, **flattened** and transfered into **uint8** format before encoding. The encoded RLE needs to be stored in a dictionary format `{'counts': rle (list), 'size': image size (list [h,w])}`.\n",
    "    - **Polygon (Contour)**: [Ref1](https://github.com/facebookresearch/Detectron/issues/100), [Ref2](https://blog.csdn.net/silangquan/article/details/47054309#commentBox), [Ref3](https://en.wikipedia.org/wiki/Marching_squares). \n",
    "- **Check JSON Files**: the generated JSON file can be checked by `pycocotool.coco`."
   ]
  },
  {
   "cell_type": "code",
   "execution_count": 2,
   "metadata": {},
   "outputs": [],
   "source": [
    "def bimask_to_rle(binary_mask):\n",
    "    rle=[]\n",
    "    # flatten the bimask into vector\n",
    "    flat_bimask = binary_mask.T.flatten().astype(np.uint8)\n",
    "    # check the first element\n",
    "    if flat_bimask[0]==1:\n",
    "        rle.append(0)\n",
    "    num=flat_bimask[0]\n",
    "    counter=1\n",
    "    # iteration\n",
    "    for i in range(1,len(flat_bimask)): \n",
    "        if num==flat_bimask[i]:\n",
    "            counter+=1\n",
    "        else:\n",
    "            num=flat_bimask[i]\n",
    "            rle.append(counter)\n",
    "            counter=1\n",
    "    # update for the last counter\n",
    "    rle.append(counter)\n",
    "    return rle\n",
    "\n",
    "import cv2\n",
    "def bimask_to_polygon(mask):\n",
    "    # Using APPROX_NONE to prevent some special case where contour is unidentified (length==4) such as rectangle\n",
    "    _, contours, _ = cv2.findContours(mask.copy(), cv2.RETR_TREE, cv2.CHAIN_APPROX_NONE) \n",
    "    segmentation = []\n",
    "    for contour in contours:\n",
    "        contour = contour.flatten().tolist()\n",
    "        # contour(list) contains the least edge/contour coordinates which describe the mask\n",
    "        # for more details about contour, \n",
    "        # you may refer to: https://docs.opencv.org/trunk/d4/d73/tutorial_py_contours_begin.html\n",
    "        if len(contour)>4:\n",
    "            segmentation.append(contour)\n",
    "    return segmentation\n",
    "\n",
    "# # following codes from https://github.com/waspinator/pycococreator/blob/master/pycococreatortools/pycococreatortools.py\n",
    "# from skimage import measure\n",
    "# def close_contour(contour):\n",
    "#     if not np.array_equal(contour[0], contour[-1]):\n",
    "#         contour = np.vstack((contour, contour[0]))\n",
    "#     return contour\n",
    "# # def bimask_to_polygon(binary_mask, tolerance=0):\n",
    "#     \"\"\"Converts a binary mask to COCO polygon representation\n",
    "#     Args:\n",
    "#         binary_mask: a 2D binary numpy array where '1's represent the object\n",
    "#         tolerance: Maximum distance from original points of polygon to approximated\n",
    "#             polygonal chain. If tolerance is 0, the original coordinate array is returned.\n",
    "#     \"\"\"\n",
    "#     polygons = []\n",
    "#     # pad mask to close contours of shapes which start and end at an edge\n",
    "#     padded_binary_mask = np.pad(binary_mask, pad_width=1, mode='constant', constant_values=0)\n",
    "#     #padded_binary_mask=binary_mask\n",
    "#     contours = measure.find_contours(padded_binary_mask, 0.5)\n",
    "#     contours = np.subtract(contours, 1)\n",
    "#     for contour in contours:\n",
    "#         contour = close_contour(contour)\n",
    "#         contour = measure.approximate_polygon(contour, tolerance)\n",
    "#         if len(contour) < 3:\n",
    "#             continue\n",
    "#         contour = np.flip(contour, axis=1)\n",
    "#         segmentation = contour.ravel().tolist()\n",
    "#         # after padding and subtracting 1 we may get -0.5 points in our segmentation \n",
    "#         segmentation = [0 if i < 0 else i for i in segmentation]\n",
    "#         polygons.append(segmentation)\n",
    "#     return polygons"
   ]
  },
  {
   "cell_type": "code",
   "execution_count": 3,
   "metadata": {},
   "outputs": [
    {
     "data": {
      "text/plain": [
       "<matplotlib.image.AxesImage at 0x12fb88b70>"
      ]
     },
     "execution_count": 3,
     "metadata": {},
     "output_type": "execute_result"
    },
    {
     "data": {
      "image/png": "[encoded data removed]",
      "text/plain": [
       "<Figure size 432x288 with 1 Axes>"
      ]
     },
     "metadata": {
      "needs_background": "light"
     },
     "output_type": "display_data"
    }
   ],
   "source": [
    "bimask=np.array([[  0,   0,   0,   0,   0,   0,   0,   0,   0,   0],\n",
    "                 [  0,   0,   0,   0,   0,   0,   0,   0,   0,   0],\n",
    "                 [  0,   0,   0,   0,   0,   1,   1,   1,   0,   0],\n",
    "                 [  0,   0,   0,   0,   0,   1,   1,   1,   0,   0],\n",
    "                 [  0,   0,   0,   0,   0,   1,   1,   1,   0,   0],\n",
    "                 [  0,   0,   0,   0,   0,   1,   1,   1,   0,   0],\n",
    "                 [  0,   0,   0,   0,   0,   0,   0,   0,   0,   0],\n",
    "                 [  0,   0,   0,   0,   0,   0,   0,   0,   0,   0],\n",
    "                 [  0,   0,   0,   0,   0,   0,   0,   0,   0,   0]], dtype=np.uint8)\n",
    "plt.imshow(bimask)"
   ]
  },
  {
   "cell_type": "code",
   "execution_count": 4,
   "metadata": {},
   "outputs": [
    {
     "name": "stdout",
     "output_type": "stream",
     "text": [
      "{'counts': [47, 4, 5, 4, 5, 4, 21], 'size': [9, 10]}\n",
      "{'size': [9, 10], 'counts': '_145000`0'}\n"
     ]
    }
   ],
   "source": [
    "# uncompressed rle\n",
    "rle_uncprs={'counts':bimask_to_rle(bimask),'size':list(bimask.shape)}\n",
    "print(rle_uncprs)\n",
    "# compressed rle\n",
    "rle_cprs=mask_utils.frPyObjects(rle_uncprs,bimask.shape[0],bimask.shape[1])\n",
    "rle_cprs['counts']=rle_cprs['counts'].decode(\"utf-8\") # transfer bytes to utf-8 (json only supports utf-8)\n",
    "print(rle_cprs)"
   ]
  },
  {
   "cell_type": "code",
   "execution_count": 5,
   "metadata": {},
   "outputs": [
    {
     "name": "stdout",
     "output_type": "stream",
     "text": [
      "The area is: 12\n",
      "The bbox is: [5. 2. 3. 4.]\n"
     ]
    }
   ],
   "source": [
    "# area\n",
    "print('The area is:',mask_utils.area(rle_cprs))\n",
    "# bbox\n",
    "print('The bbox is:',mask_utils.toBbox(rle_cprs))"
   ]
  },
  {
   "cell_type": "code",
   "execution_count": 6,
   "metadata": {},
   "outputs": [
    {
     "name": "stdout",
     "output_type": "stream",
     "text": [
      "[[5, 2, 5, 3, 5, 4, 5, 5, 6, 5, 7, 5, 7, 4, 7, 3, 7, 2, 6, 2]]\n"
     ]
    }
   ],
   "source": [
    "# polygon\n",
    "polygon=bimask_to_polygon(bimask)\n",
    "print(polygon)"
   ]
  },
  {
   "cell_type": "markdown",
   "metadata": {},
   "source": [
    "check the generated data"
   ]
  },
  {
   "cell_type": "code",
   "execution_count": 7,
   "metadata": {},
   "outputs": [
    {
     "name": "stdout",
     "output_type": "stream",
     "text": [
      "loading annotations into memory...\n",
      "Done (t=0.13s)\n",
      "creating index...\n",
      "index created!\n"
     ]
    }
   ],
   "source": [
    "annFile='./datasets/dsbw/test.json'\n",
    "# initialize COCO api for instance annotations\n",
    "coco=COCO(annFile)"
   ]
  },
  {
   "cell_type": "code",
   "execution_count": 8,
   "metadata": {},
   "outputs": [
    {
     "data": {
      "image/png": "[encoded data removed]",
      "text/plain": [
       "<Figure size 432x288 with 1 Axes>"
      ]
     },
     "metadata": {
      "needs_background": "light"
     },
     "output_type": "display_data"
    }
   ],
   "source": [
    "imgid=9\n",
    "imgIds = coco.getImgIds(imgIds = [imgid])\n",
    "img = coco.loadImgs(imgIds[np.random.randint(0,len(imgIds))])[0]\n",
    "I = io.imread('./datasets/dsbw/'+img['file_name'])\n",
    "plt.axis('off')\n",
    "plt.imshow(I)\n",
    "annIds = coco.getAnnIds(imgIds=imgid,iscrowd=0)\n",
    "anns = coco.loadAnns(annIds)\n",
    "coco.showAnns(anns)"
   ]
  },
  {
   "cell_type": "markdown",
   "metadata": {},
   "source": [
    "### Redirect the Path to Custom Datasets\n",
    "- Modify the path of datasets in `maskrcnn_benchmark/config/paths_catalog.py`. \n",
    "    ```python\n",
    "        ...\n",
    "         DATASETS = {\n",
    "        \"coco_dsbw_train\": { # must contain key words \"coco\".\n",
    "            \"img_dir\":\"dsbw/\", # the root directory of image which will be concatenated with \"file_name\" in annotation file and construct the complete path.\n",
    "            \"ann_file\":\"dsbw/train.json\" # directory of annotation files.\n",
    "        },\n",
    "        \"coco_dsbw_val\": {\n",
    "            \"img_dir\":\"dsbw/\", \n",
    "            \"ann_file\":\"dsbw/validation.json\" \n",
    "        },\n",
    "        \"coco_dsbw_test\": {\n",
    "            \"img_dir\":\"dsbw/\", \n",
    "            \"ann_file\":\"dsbw/test.json\"\n",
    "        },\n",
    "        ...\n",
    "    ```\n",
    "- One alternative is to create a new `paths_catalog.py` file with the same implementations, and pass its directory as a config argument `PATHS_CATALOG` during training.\n",
    "- **Note**: the dataset name in `paths_catalog.py` must include the keyword 'coco' to let the model process it by coco wrapper."
   ]
  },
  {
   "cell_type": "markdown",
   "metadata": {},
   "source": [
    "### Change Model Configuration File\n",
    "The model configurations are stored in `./configs/*.yaml` and `./maskrcnn_benchmark/config/default.py`. The former one can be regarded as a specified setting for some common models. For the parameters that are not configured in `*.yaml`, the model will turn to `default.py`. In addition to above two ways, you can also amend the default settings when calling the `train_net.py` api. \n",
    "\n",
    "- `*.yaml`: We need to change the file name of datasets in `*.yaml`. The commented parts correspond to the default settings. \n",
    "    ```python\n",
    "        ...\n",
    "        DATASETS:\n",
    "          TRAIN: (\"coco_dsbw_train\", \"coco_dsbw_val\") #(\"coco_2014_train\", \"coco_2014_valminusminival\")\n",
    "          TEST: (\"coco_dsbw_test\",) #(\"coco_2014_minival\",)\n",
    "        ...\n",
    "    ```\n",
    "- `default.py`: There are several parts that need to be modified.\n",
    "    - Input: the extreme side of the image during training (including both `train_set` and `val_set`) and testing, as well as the pixel mean for all training images (**BGR order**).\n",
    "    ```python\n",
    "        # -----------------------------------------------------------------------------\n",
    "        # INPUT\n",
    "        # -----------------------------------------------------------------------------\n",
    "        _C.INPUT = CN()\n",
    "        # Size of the smallest side of the image during training\n",
    "        _C.INPUT.MIN_SIZE_TRAIN = 256 #800  # (800,)\n",
    "        # Maximum size of the side of the image during training\n",
    "        _C.INPUT.MAX_SIZE_TRAIN = 1388 #1333\n",
    "        # Size of the smallest side of the image during testing\n",
    "        _C.INPUT.MIN_SIZE_TEST = 161 #800\n",
    "        # Maximum size of the side of the image during testing\n",
    "        _C.INPUT.MAX_SIZE_TEST = 696 #1333\n",
    "        # Values to be used for image normalization\n",
    "        _C.INPUT.PIXEL_MEAN = [43.53287505, 39.56061986, 48.22454996] #[102.9801, 115.9465, 122.7717]\n",
    "        # Values to be used for image normalization\n",
    "        _C.INPUT.PIXEL_STD = [1., 1., 1.]\n",
    "        # Convert image to BGR format (for Caffe2 models), in range 0-255\n",
    "        _C.INPUT.TO_BGR255 = True\n",
    "    ```\n",
    "    - Misc Options: specify the storage path of log files.\n",
    "    ```python\n",
    "        # ---------------------------------------------------------------------------- #\n",
    "        # Misc options\n",
    "        # ---------------------------------------------------------------------------- #\n",
    "        _C.OUTPUT_DIR = \"./dsbw_12_28/\"\n",
    "\n",
    "        _C.PATHS_CATALOG = os.path.join(os.path.dirname(__file__), \"paths_catalog.py\")\n",
    "    ```"
   ]
  },
  {
   "cell_type": "markdown",
   "metadata": {},
   "source": [
    "### Call `train_net.py` to Train the Model\n",
    "- Back to the command line mode, and input `screen -S maskrcnn` to creat a new session.\n",
    "- **Single GPU training**: for example, input `python tools/train_net.py --config-file configs/e2e_mask_rcnn_R_50_FPN_1x.yaml SOLVER.IMS_PER_BATCH 2 SOLVER.BASE_LR 0.0025 SOLVER.MAX_ITER 48000 SOLVER.STEPS \"(32000, 42000)\" TEST.IMS_PER_BATCH 1`. The formula of `train_net.py` is to specify the cofig file first and then modify the parameters if required.\n",
    "\n",
    "```bash\n",
    "python tools/train_net.py --config-file configs/e2e_mask_rcnn_R_50_FPN_1x.yaml SOLVER.IMS_PER_BATCH 2 SOLVER.BASE_LR 0.0025 SOLVER.MAX_ITER 48000 SOLVER.STEPS \"(32000, 42000)\" TEST.IMS_PER_BATCH 1\n",
    "```"
   ]
  },
  {
   "cell_type": "markdown",
   "metadata": {},
   "source": [
    "## Inference Based on Trained Model"
   ]
  },
  {
   "cell_type": "markdown",
   "metadata": {},
   "source": [
    "Enter the following codes in the command line to launch the inference mode based on the trained model.\n",
    "```Bash\n",
    "python tools/test_net.py --config-file \"configs/e2e_mask_rcnn_R_50_FPN_1x.yaml\" MODEL.WEIGHT \"dsbw_12_28/model_final.pth\"\n",
    "\n",
    "```"
   ]
  },
  {
   "cell_type": "markdown",
   "metadata": {},
   "source": [
    "### Multi-Classes Object Detection and Segmentation\n",
    "\n",
    "The following part focuses on those tasks where we need to take the class score into account, such as instance segmentation for multiple class. For convenience, we only consider the simplest single class case to reproduce the codes of relevant metrics."
   ]
  },
  {
   "cell_type": "markdown",
   "metadata": {},
   "source": [
    "#### Visualization\n",
    "\n",
    "We take the advantage of `pycocotools.coco` ,`pycocotools.cocoeval` as well as `cv2.findContours` to generate the ground truth and detected figures with masks."
   ]
  },
  {
   "cell_type": "code",
   "execution_count": 9,
   "metadata": {},
   "outputs": [],
   "source": [
    "import numpy as np\n",
    "from pycocotools.coco import COCO\n",
    "from pycocotools.cocoeval import COCOeval\n",
    "from pycocotools import mask as mask_utils\n",
    "import matplotlib.pyplot as plt\n",
    "import json"
   ]
  },
  {
   "cell_type": "code",
   "execution_count": 10,
   "metadata": {},
   "outputs": [],
   "source": [
    "testFile='./datasets/dsbw/test.json'\n",
    "resFile='./dsbw_12_28/inference/coco_dsbw_test/segm.json'"
   ]
  },
  {
   "cell_type": "code",
   "execution_count": 11,
   "metadata": {},
   "outputs": [
    {
     "name": "stdout",
     "output_type": "stream",
     "text": [
      "loading annotations into memory...\n",
      "Done (t=0.08s)\n",
      "creating index...\n",
      "index created!\n",
      "Loading and preparing results...\n",
      "DONE (t=0.04s)\n",
      "creating index...\n",
      "index created!\n",
      "creating index...\n",
      "index created!\n"
     ]
    }
   ],
   "source": [
    "cocoGt=COCO(testFile)\n",
    "cocoDt=cocoGt.loadRes(resFile) # use loadRes to load the results files\n",
    "# remove the empty (all entries in mask are zeros) mask in cocoDt\n",
    "# and transfer the rle segm into polygon for better visual effect\n",
    "anns=[]\n",
    "for ann in cocoDt.dataset['annotations']:\n",
    "    msk=mask_utils.decode(ann['segmentation'])\n",
    "    if np.sum(msk)>0: # remove the empty segm\n",
    "        ann['segmentation']=bimask_to_polygon(msk)\n",
    "        if ann['segmentation']!=[]: # if not [] which may take place when len(contour<=4)\n",
    "            anns.append(ann)\n",
    "# reorder the id\n",
    "for i,ann in enumerate(anns,start=1):\n",
    "    ann['id']=i\n",
    "cocoDt.dataset['annotations']=anns\n",
    "# reindex the dataset\n",
    "cocoDt.createIndex()"
   ]
  },
  {
   "cell_type": "code",
   "execution_count": 12,
   "metadata": {},
   "outputs": [],
   "source": [
    "imgIds=5 # the image id\n",
    "# load the annotations\n",
    "annIdsGt=cocoGt.getAnnIds(imgIds=imgIds)\n",
    "annIdsDt=cocoDt.getAnnIds(imgIds=imgIds)\n",
    "annsGt=cocoGt.loadAnns(annIdsGt)\n",
    "annsDt=cocoDt.loadAnns(annIdsDt)"
   ]
  },
  {
   "cell_type": "code",
   "execution_count": 13,
   "metadata": {
    "scrolled": false
   },
   "outputs": [
    {
     "data": {
      "image/png": "[encoded data removed]",
      "text/plain": [
       "<Figure size 600x400 with 2 Axes>"
      ]
     },
     "metadata": {
      "needs_background": "light"
     },
     "output_type": "display_data"
    }
   ],
   "source": [
    "# load the image\n",
    "img=cocoGt.loadImgs(imgIds)[0]\n",
    "I=plt.imread('./datasets/dsbw/'+img['file_name'])\n",
    "plt.figure(dpi=100)\n",
    "# subplot 1\n",
    "plt.subplot(121)\n",
    "plt.axis('off')\n",
    "plt.imshow(I)\n",
    "plt.title('Ground Truth')\n",
    "cocoGt.showAnns(annsGt)\n",
    "# subplot 2\n",
    "plt.subplot(122)\n",
    "plt.axis('off')\n",
    "plt.imshow(I)\n",
    "plt.title('Detection')\n",
    "cocoDt.showAnns(annsDt)"
   ]
  },
  {
   "cell_type": "markdown",
   "metadata": {},
   "source": [
    "#### IoU and Average Precision (AP) Calculation\n",
    "\n",
    "- **Intersection-over-Union (IoU)**\n",
    "    - Definition: \n",
    "        Figure from rafaelpadilla's [repo](https://github.com/rafaelpadilla/Object-Detection-Metrics)\n",
    "        ![IoU](https://github.com/rafaelpadilla/Object-Detection-Metrics/raw/master/aux_images/iou.png)\n",
    "    - Given the binary mask image, we can compute the IoU easily by `np.logical_and` and `np.logical_or`. For more details, please refer to this [post](https://www.jeremyjordan.me/evaluating-image-segmentation-models/). Here we call the coco api to run the code directly. In coco api, the codes calculate IoUs for every detection (dt) and ground truth (gt), so it returns a matrix.\n",
    "\n",
    "    ```python\n",
    "        msk1=cocoDt.annToMask(annsDt[0])\n",
    "        msk2=cocoGt.annToMask(annsGt[4])\n",
    "        intersect=np.logical_and(msk1,msk2)\n",
    "        union=np.logical_or(msk1,msk2)\n",
    "        np.sum(intersect)/np.sum(union)\n",
    "    ```\n",
    "    - When it comes to the bounding box, the codes would be more complicated, you may refer to [this](https://www.pyimagesearch.com/2016/11/07/intersection-over-union-iou-for-object-detection/)."
   ]
  },
  {
   "cell_type": "code",
   "execution_count": 14,
   "metadata": {},
   "outputs": [],
   "source": [
    "# decreasing order of score, return index\n",
    "dtind=np.argsort([-ann['score'] for ann in annsDt])\n",
    "annsDt_rles=[cocoGt.annToRLE(annsDt[i]) for i in dtind]\n",
    "annsGt_rles=[cocoGt.annToRLE(annGt) for annGt in annsGt]\n",
    "# for mask_utils.iou\n",
    "# dt: list of rles or boxes \n",
    "# gt: list of rles or boxes\n",
    "# pyiscrowd: list, iscrowd arguments in annsGt\n",
    "ious=mask_utils.iou(annsDt_rles,annsGt_rles,[o['iscrowd'] for o in annsGt])\n",
    "#print('The IoU ({}x{}) matrix is:\\n'.format(ious.shape[0],ious.shape[1]),ious)"
   ]
  },
  {
   "cell_type": "markdown",
   "metadata": {},
   "source": [
    "- **Average Precision (AP)**:\n",
    "    - **True Positive (TP)**: A correct detection. Detection with IoU $\\geq$ threshold.\n",
    "    - **False Positive (FP)**: A wrong detection. Detection with IoU $<$ threshold.\n",
    "    - **Precision**: $\\frac{TP}{TP+FP}=\\frac{TP}{\\#\\text{detection}}$.\n",
    "    - **Recall**: $\\frac{TP}{TP+TN}=\\frac{TP}{\\#\\text{ground truth}}$.\n",
    "    - **Note**: \n",
    "        - For detection task, we can only obtain the TP, FP and the number of gt. Regarding each ground truth bbox/segm, we only the dt which has the highest IoU with the bbox/segm while the rest are assigned to the FP. Therefore, some ground truth bboxes/segms may never be retrieved whatever the threshold is, which is different from the traditional classification case where all gts can be found (recall=1) given small enough threshold. Such a difference brings some variations in coding and prevents calling relevant functions in `sklearn.metrics` directly.\n",
    "        - Precision and Recall actually have connections to the probabilities. ![precision&recall](https://pic3.zhimg.com/80/v2-fa85e2f454302d3ad483ef2317afbb3e_hd.png).\n",
    "        - For more detailed comparisions among different evaluation metrics, you may refer to this [link](https://www.zhihu.com/question/30643044/answer/224360465).\n",
    "    - **Precision-Recall Curve**: To draw the so-called P-R Curve, we obey the sixe steps. The example curve are shown in the following figure.\n",
    "        - Sort the dts in decreasing order by their scores.\n",
    "        - Compute the iou matrix `ious` by calling `mask.iou` in coco api.\n",
    "        - For each gt (each column in `ious`), only remain the highest IoU and set the rest to zeros.\n",
    "        - Determine the TP by aggregating each row's value, and transfer it into bool variable, then obtain FP.\n",
    "        - Adopt `np.cumsum` to calculate accumulated TP and FP and calculate the precision and recall.\n",
    "        - Plot the figure.\n",
    "    - **Average Precision**: AP is actually the area-under-curve (AUC) of P-R curve. There are two popular ways to calculate the area, evenly interpolated points and approximated integral.\n",
    "        - **Even interpolation**: Given equally spaced recall level set $\\mathcal{S}$, such as $\\mathcal{S}=[0.0,0.1,\\dots,1.0]$ with $\\# \\mathcal{S}=11$ in PASCAL VOC before 2010 and $\\mathcal{S}=[0.00,0.01,\\dots,1.00]$ with $\\# \\mathcal{S}=101$ in MS COCO. We therefore have $$AP=\\frac{1}{\\#\\mathcal{S}}\\sum\\limits_{r\\in\\mathcal{S}}pr_{\\rm interp}(r), \\quad pr_{\\rm interp}(r)=\\max\\limits_{\\tilde{r}:\\tilde{r}\\geq r}pr(\\tilde{r}),$$\n",
    "        where $pr(r)$ denotes the precision on the recall level $r$.\n",
    "        - **Approximated Integral**: Note that our target is $$AP=\\int_{0}^{1}pr(r)dr.$$ It's thus straightforward to approximate the above integral by the summation\n",
    "        $$AP=\\sum pr(r)\\Delta r.$$\n",
    "            In latest PASCAL VOC data set, the following approximation is applied,\n",
    "            $$AP=\\sum_k pr_{\\rm interp}(r_{k+1})(r_{k+1}-r_{k}),$$\n",
    "            where $\\{r_k\\}$ is the sorted recall level.\n",
    "    - **Some Helpful Reference**: \n",
    "        - `coco` Source Code: https://github.com/cocodataset/cocoapi/blob/master/PythonAPI/pycocotools/cocoeval.py\n",
    "        - `PASCAL VOC` eval code in `maskrcnn-benchmark`: https://github.com/facebookresearch/maskrcnn-benchmark/blob/master/maskrcnn_benchmark/data/datasets/evaluation/voc/voc_eval.py\n",
    "        - Github (strongly recommended): https://github.com/rafaelpadilla/Object-Detection-Metrics\n",
    "        - Wiki: https://en.wikipedia.org/wiki/Precision_and_recall\n",
    "        - Wiki: https://en.wikipedia.org/w/index.php?title=Information_retrieval&oldid=793358396#Average_precision\n",
    "        - Post: https://medium.com/@jonathan_hui/map-mean-average-precision-for-object-detection-45c121a31173"
   ]
  },
  {
   "cell_type": "code",
   "execution_count": 15,
   "metadata": {},
   "outputs": [
    {
     "data": {
      "text/plain": [
       "<matplotlib.legend.Legend at 0x13306f358>"
      ]
     },
     "execution_count": 15,
     "metadata": {},
     "output_type": "execute_result"
    },
    {
     "data": {
      "image/png": "[encoded data removed]",
      "text/plain": [
       "<Figure size 600x400 with 1 Axes>"
      ]
     },
     "metadata": {
      "needs_background": "light"
     },
     "output_type": "display_data"
    }
   ],
   "source": [
    "# The following codes modified from the cocoeval.py in pycocotool\n",
    "# threshold\n",
    "iou=0.5\n",
    "# for each column (ground truth), only maintain the one with largest IoU\n",
    "ious_=np.apply_along_axis(lambda x:x*(x==np.max(x))>=iou,0,ious)\n",
    "# compute fp and tp\n",
    "fp=np.logical_not(np.sum(ious_,1))\n",
    "tp=np.logical_not(fp)\n",
    "# accummulated tp and fp\n",
    "tp_sum=np.cumsum(tp).astype(dtype=np.float)\n",
    "fp_sum=np.cumsum(fp).astype(dtype=np.float)\n",
    "# accummulated precision and recall\n",
    "pr=tp_sum/(tp_sum+fp_sum+np.spacing(1))\n",
    "rc=tp_sum/ious.shape[1]\n",
    "# coco api adopts equally interpolated points to compute AP\n",
    "# recall thresholds\n",
    "rcThrs=np.linspace(0.,1.00,101,endpoint=True)\n",
    "# interpolating points\n",
    "q=pr.copy()\n",
    "for i in range(ious.shape[0]-1,0,-1):\n",
    "    if q[i]>q[i-1]:\n",
    "        q[i-1]=q[i]\n",
    "qq=np.zeros(len(rcThrs))\n",
    "insrt_ind=np.searchsorted(rc,rcThrs,side='left')\n",
    "for ri, qi in enumerate(insrt_ind):\n",
    "    try:\n",
    "        qq[ri] = q[qi]\n",
    "    except:\n",
    "        continue\n",
    "# plot the figure\n",
    "plt.figure(dpi=100)\n",
    "plt.plot(rc,pr,label='P-R Curve')\n",
    "plt.plot(rc,q,'r--',label='Approx Curve')\n",
    "plt.plot(rcThrs,qq,'.',label='Interpolated Points ({})'.format(round(np.mean(qq),3)))\n",
    "plt.legend()"
   ]
  },
  {
   "cell_type": "code",
   "execution_count": 16,
   "metadata": {},
   "outputs": [
    {
     "name": "stdout",
     "output_type": "stream",
     "text": [
      "Running per image evaluation...\n",
      "Evaluate annotation type *segm*\n",
      "DONE (t=0.01s).\n",
      "Accumulating evaluation results...\n",
      "DONE (t=0.01s).\n",
      " Average Precision  (AP) @[ IoU=0.50:0.95 | area=   all | maxDets=100 ] = 0.091\n",
      " Average Precision  (AP) @[ IoU=0.50      | area=   all | maxDets=100 ] = 0.287\n",
      " Average Precision  (AP) @[ IoU=0.75      | area=   all | maxDets=100 ] = 0.050\n",
      " Average Precision  (AP) @[ IoU=0.50:0.95 | area= small | maxDets=100 ] = 0.091\n",
      " Average Precision  (AP) @[ IoU=0.50:0.95 | area=medium | maxDets=100 ] = -1.000\n",
      " Average Precision  (AP) @[ IoU=0.50:0.95 | area= large | maxDets=100 ] = -1.000\n",
      " Average Recall     (AR) @[ IoU=0.50:0.95 | area=   all | maxDets=  1 ] = 0.033\n",
      " Average Recall     (AR) @[ IoU=0.50:0.95 | area=   all | maxDets= 10 ] = 0.095\n",
      " Average Recall     (AR) @[ IoU=0.50:0.95 | area=   all | maxDets=100 ] = 0.143\n",
      " Average Recall     (AR) @[ IoU=0.50:0.95 | area= small | maxDets=100 ] = 0.143\n",
      " Average Recall     (AR) @[ IoU=0.50:0.95 | area=medium | maxDets=100 ] = -1.000\n",
      " Average Recall     (AR) @[ IoU=0.50:0.95 | area= large | maxDets=100 ] = -1.000\n"
     ]
    }
   ],
   "source": [
    "# official results for reference\n",
    "cocoEval = COCOeval(cocoGt,cocoDt,'segm')\n",
    "cocoEval.params.imgIds=imgIds\n",
    "cocoEval.evaluate()\n",
    "cocoEval.accumulate()\n",
    "cocoEval.summarize()"
   ]
  },
  {
   "cell_type": "markdown",
   "metadata": {},
   "source": [
    "### Single-Class Object Detection and Segmentation\n",
    "\n",
    "Single class segmentation (as well as detection) is widely applied in biomedical data where the lesion part is the only thing to seperate out. Actually the example applied in aforementioned section should be assigned into this category. Here we introduce the and reproduce the metric used in Data Science Bowl 2018.  "
   ]
  },
  {
   "cell_type": "markdown",
   "metadata": {},
   "source": [
    "#### DSB2018 Metric\n",
    "We directly cite the official description here. For detail information, you may refer to this [link](https://www.kaggle.com/c/data-science-bowl-2018#evaluation). \n",
    "- Given IoU levels (or thresholds) $(0.5, 0.55, 0.6, 0.65, 0.7, 0.75, 0.8, 0.85, 0.9, 0.95)$. For each threshold $t$, we can assign one predition to be $TP(t)$ if it's IoU $> t$ with any ground truth (? official description is vague here, but it ought to be with any gt). Similarly we obtain $FP(t)$. Since we know the numbe of ground truth, thus obtain $FN(t)$.\n",
    "\n",
    "- Metric:\n",
    "    $$\\frac{1}{\\#|{\\rm thresholds}|}\\sum \\frac{TP(t)}{TP(t)+FP(t)+FN(t)}$$\n",
    "    \n",
    "- **Note**: Since the official evalution removes the duplicated part and also include other operations. Our estimation is optimisitic. "
   ]
  },
  {
   "cell_type": "code",
   "execution_count": 17,
   "metadata": {},
   "outputs": [
    {
     "name": "stdout",
     "output_type": "stream",
     "text": [
      "The final score is: 0.48799477276498693\n"
     ]
    }
   ],
   "source": [
    "thrs=np.arange(0.5,1,0.05) # thresholds\n",
    "Ids=cocoGt.getImgIds()\n",
    "metric=[]\n",
    "for imgIds in Ids[:2]:\n",
    "    # load the annotations and encode into rle\n",
    "    annIdsGt=cocoGt.getAnnIds(imgIds=imgIds)\n",
    "    annIdsDt=cocoDt.getAnnIds(imgIds=imgIds)\n",
    "    annsGt=cocoGt.loadAnns(annIdsGt)\n",
    "    annsDt=cocoDt.loadAnns(annIdsDt)\n",
    "    annsDt_rles=[cocoGt.annToRLE(annDt) for annDt in annsDt]\n",
    "    annsGt_rles=[cocoGt.annToRLE(annGt) for annGt in annsGt]\n",
    "    ious=mask_utils.iou(annsDt_rles,annsGt_rles,[o['iscrowd'] for o in annsGt])\n",
    "    \n",
    "    metric_=[]\n",
    "    for t in thrs:\n",
    "        ious_=np.apply_along_axis(lambda x:x*(x==np.max(x))>=t,0,ious)\n",
    "        # compute fp, tp and fn\n",
    "        fp=np.logical_not(np.sum(ious_,1))\n",
    "        tp=np.logical_not(fp)\n",
    "        fn=ious.shape[1]-tp.sum()\n",
    "        metric_.append(tp.sum()/(tp.sum()+fp.sum()+fn))\n",
    "    metric.append(np.mean(metric_))\n",
    "print('The final score is: {}'.format(np.mean(metric)))"
   ]
  },
  {
   "cell_type": "markdown",
   "metadata": {},
   "source": [
    "#### Dice Coefficient (F1-Score)\n",
    "\n",
    "Given two set $A$ and $B$, the Dice coefficient is $$Dice=\\frac{2|A\\cap B|}{|A|+|B|}.$$ It can be shown that it's equvalent to the F1-score, that is, $$F1=\\frac{2TP}{2TP+FP+FN}.$$ Note that both gt and dt should be binary image in order to calculate the dice coefficient. What's more a derived so-called ['dice loss'](https://becominghuman.ai/investigating-focal-and-dice-loss-for-the-kaggle-2018-data-science-bowl-65fb9af4f36c) is also applied in the biomedical segmentation task."
   ]
  },
  {
   "cell_type": "code",
   "execution_count": 18,
   "metadata": {},
   "outputs": [],
   "source": [
    "imgIds=2\n",
    "# load the annotations and encode into rle\n",
    "annIdsGt=cocoGt.getAnnIds(imgIds=imgIds)\n",
    "annIdsDt=cocoDt.getAnnIds(imgIds=imgIds)\n",
    "annsGt=cocoGt.loadAnns(annIdsGt)\n",
    "annsDt=cocoDt.loadAnns(annIdsDt)\n",
    "annsDt_msks=[cocoGt.annToMask(annDt) for annDt in annsDt]\n",
    "annsGt_msks=[cocoGt.annToMask(annGt) for annGt in annsGt]"
   ]
  },
  {
   "cell_type": "code",
   "execution_count": 19,
   "metadata": {},
   "outputs": [
    {
     "data": {
      "text/plain": [
       "(-0.5, 252.5, 518.5, -0.5)"
      ]
     },
     "execution_count": 19,
     "metadata": {},
     "output_type": "execute_result"
    },
    {
     "data": {
      "image/png": "[encoded data removed]",
      "text/plain": [
       "<Figure size 432x288 with 2 Axes>"
      ]
     },
     "metadata": {
      "needs_background": "light"
     },
     "output_type": "display_data"
    }
   ],
   "source": [
    "mskdt=np.sum(annsDt_msks,0)\n",
    "mskdt=(mskdt>0).astype(np.uint64)\n",
    "mskgt=np.sum(annsGt_msks,0)\n",
    "fig=plt.figure()\n",
    "ax=fig.add_subplot(1,2,1)\n",
    "ax.imshow(mskdt,cmap='gray')\n",
    "ax.set_title('Detection')\n",
    "ax.axis('off')\n",
    "ax=fig.add_subplot(1,2,2)\n",
    "ax.imshow(mskgt,cmap='gray')\n",
    "ax.set_title('Ground Truth')\n",
    "ax.axis('off')"
   ]
  },
  {
   "cell_type": "code",
   "execution_count": 20,
   "metadata": {},
   "outputs": [
    {
     "name": "stdout",
     "output_type": "stream",
     "text": [
      "The dice coefficient is: 0.8501681593167819\n"
     ]
    }
   ],
   "source": [
    "# dice coefficient\n",
    "from sklearn.metrics import f1_score\n",
    "print('The dice coefficient is: {}'.format(f1_score(mskgt.flatten(),mskdt.flatten())))"
   ]
  },
  {
   "cell_type": "code",
   "execution_count": 21,
   "metadata": {},
   "outputs": [
    {
     "name": "stdout",
     "output_type": "stream",
     "text": [
      "The dice coefficient is: 0.8501681593167819\n"
     ]
    }
   ],
   "source": [
    "# dice coefficient my implementation\n",
    "intersect=np.logical_and(mskdt,mskgt).sum()\n",
    "dice=2*intersect/(mskdt.sum()+mskgt.sum())\n",
    "print('The dice coefficient is: {}'.format(dice))"
   ]
  },
  {
   "cell_type": "code",
   "execution_count": null,
   "metadata": {},
   "outputs": [],
   "source": []
  }
 ],
 "metadata": {
  "kernelspec": {
   "display_name": "Python 3",
   "language": "python",
   "name": "python3"
  },
  "language_info": {
   "codemirror_mode": {
    "name": "ipython",
    "version": 3
   },
   "file_extension": ".py",
   "mimetype": "text/x-python",
   "name": "python",
   "nbconvert_exporter": "python",
   "pygments_lexer": "ipython3",
   "version": "3.6.6"
  },
  "toc": {
   "base_numbering": 1,
   "nav_menu": {},
   "number_sections": true,
   "sideBar": true,
   "skip_h1_title": false,
   "title_cell": "Table of Contents",
   "title_sidebar": "Contents",
   "toc_cell": false,
   "toc_position": {},
   "toc_section_display": true,
   "toc_window_display": false
  },
  "varInspector": {
   "cols": {
    "lenName": 16,
    "lenType": 16,
    "lenVar": 40
   },
   "kernels_config": {
    "python": {
     "delete_cmd_postfix": "",
     "delete_cmd_prefix": "del ",
     "library": "var_list.py",
     "varRefreshCmd": "print(var_dic_list())"
    },
    "r": {
     "delete_cmd_postfix": ") ",
     "delete_cmd_prefix": "rm(",
     "library": "var_list.r",
     "varRefreshCmd": "cat(var_dic_list()) "
    }
   },
   "position": {
    "height": "261px",
    "left": "956px",
    "right": "20px",
    "top": "113px",
    "width": "354px"
   },
   "types_to_exclude": [
    "module",
    "function",
    "builtin_function_or_method",
    "instance",
    "_Feature"
   ],
   "window_display": false
  }
 },
 "nbformat": 4,
 "nbformat_minor": 2
}
