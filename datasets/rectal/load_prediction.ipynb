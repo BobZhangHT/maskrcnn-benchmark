{
 "cells": [
  {
   "cell_type": "code",
   "execution_count": 1,
   "metadata": {},
   "outputs": [],
   "source": [
    "%matplotlib inline\n",
    "import matplotlib.pyplot as plt\n",
    "from maskrcnn_benchmark.modeling.roi_heads.mask_head.inference import Masker\n",
    "from pycocotools.coco import COCO\n",
    "import numpy as np\n",
    "import torch"
   ]
  },
  {
   "cell_type": "code",
   "execution_count": 10,
   "metadata": {},
   "outputs": [],
   "source": [
    "import os\n",
    "def clean_model_cache(output_dir):\n",
    "    filenms=os.listdir(output_dir)\n",
    "    for file in filenms:\n",
    "        if 'model' in file and 'final' not in file:\n",
    "            os.remove(output_dir+file)"
   ]
  },
  {
   "cell_type": "code",
   "execution_count": 6,
   "metadata": {},
   "outputs": [
    {
     "data": {
      "text/plain": [
       "'/home/r7user3/ZhangHT/github/maskrcnn-benchmark/logs/dsbw_12_28/inference/coco_dsbw_test./'"
      ]
     },
     "execution_count": 6,
     "metadata": {},
     "output_type": "execute_result"
    }
   ],
   "source": [
    "cdir"
   ]
  },
  {
   "cell_type": "code",
   "execution_count": 12,
   "metadata": {},
   "outputs": [],
   "source": [
    "annFile='/home/r7user3/ZhangHT/github/maskrcnn-benchmark/datasets/dsbw/test.json'\n",
    "File='/home/r7user3/ZhangHT/github/maskrcnn-benchmark/datasets/dsbw/'"
   ]
  },
  {
   "cell_type": "code",
   "execution_count": 13,
   "metadata": {},
   "outputs": [
    {
     "name": "stdout",
     "output_type": "stream",
     "text": [
      "loading annotations into memory...\n",
      "Done (t=0.79s)\n",
      "creating index...\n",
      "index created!\n"
     ]
    }
   ],
   "source": [
    "coco=COCO(annFile)"
   ]
  },
  {
   "cell_type": "code",
   "execution_count": 14,
   "metadata": {},
   "outputs": [],
   "source": [
    "Id=0\n",
    "imgIds=coco.getImgIds()\n",
    "masksgt=[]\n",
    "for imgId in imgIds:\n",
    "    annIds=coco.getAnnIds(imgIds=imgId)\n",
    "    anns=coco.loadAnns(annIds)\n",
    "    maskgt=[coco.annToMask(ann) for ann in anns]\n",
    "    masksgt.append((np.sum(maskgt,0)>0).astype(np.uint8))"
   ]
  },
  {
   "cell_type": "code",
   "execution_count": 15,
   "metadata": {},
   "outputs": [],
   "source": [
    "imgsInfo=coco.loadImgs(imgIds)\n",
    "whs=[(img['width'],img['height']) for img in imgsInfo]"
   ]
  },
  {
   "cell_type": "code",
   "execution_count": 16,
   "metadata": {},
   "outputs": [
    {
     "data": {
      "text/plain": [
       "<matplotlib.image.AxesImage at 0x7fbc48d09cc0>"
      ]
     },
     "execution_count": 16,
     "metadata": {},
     "output_type": "execute_result"
    },
    {
     "data": {
      "image/png": "[encoded data removed]",
      "text/plain": [
       "<Figure size 432x288 with 1 Axes>"
      ]
     },
     "metadata": {
      "needs_background": "light"
     },
     "output_type": "display_data"
    }
   ],
   "source": [
    "plt.imshow(masksgt[9])"
   ]
  },
  {
   "cell_type": "code",
   "execution_count": 17,
   "metadata": {},
   "outputs": [],
   "source": [
    "predictions=torch.load('./predictions.pth')"
   ]
  },
  {
   "cell_type": "code",
   "execution_count": 18,
   "metadata": {},
   "outputs": [],
   "source": [
    "masksdt=[]\n",
    "for i,prediction in enumerate(predictions):\n",
    "    prediction=prediction.resize(whs[i])\n",
    "    maskdt=prediction.get_field('mask')\n",
    "    masker=Masker()\n",
    "    if list(maskdt.shape[-2:]) != list(whs[i][::-1]):\n",
    "        maskdt = masker(maskdt.expand(1, -1, -1, -1, -1), prediction)\n",
    "        maskdt = maskdt[0]\n",
    "    maskdt=maskdt.numpy().sum((0,1))\n",
    "    maskdt=(maskdt>0).astype(np.uint8)\n",
    "    masksdt.append(maskdt)"
   ]
  },
  {
   "cell_type": "code",
   "execution_count": 19,
   "metadata": {},
   "outputs": [
    {
     "data": {
      "text/plain": [
       "True"
      ]
     },
     "execution_count": 19,
     "metadata": {},
     "output_type": "execute_result"
    }
   ],
   "source": [
    "whsdt=[tuple(maskdt.shape[::-1]) for maskdt in masksdt]\n",
    "whsdt==whs"
   ]
  },
  {
   "cell_type": "code",
   "execution_count": 20,
   "metadata": {},
   "outputs": [
    {
     "data": {
      "text/plain": [
       "<matplotlib.image.AxesImage at 0x7fbc494f6278>"
      ]
     },
     "execution_count": 20,
     "metadata": {},
     "output_type": "execute_result"
    },
    {
     "data": {
      "image/png": "[encoded data removed]",
      "text/plain": [
       "<Figure size 432x288 with 1 Axes>"
      ]
     },
     "metadata": {
      "needs_background": "light"
     },
     "output_type": "display_data"
    }
   ],
   "source": [
    "plt.imshow(masksdt[4])"
   ]
  },
  {
   "cell_type": "code",
   "execution_count": null,
   "metadata": {},
   "outputs": [],
   "source": [
    "# # add your statistics here, '_' denotes the unwrapped one\n",
    "# def _dice(maskgt,maskdt):\n",
    "#     intersect=np.logical_and(maskdt,maskgt).sum()\n",
    "#     dice=2*intersect/(maskdt.sum()+maskgt.sum())\n",
    "#     return dice\n",
    "\n",
    "# class EvalMetric(object):\n",
    "#     def __init__(self,masksgt,masksdt):\n",
    "#         self.masksgt=masksgt\n",
    "#         self.masksdt=masksdt\n",
    "        \n",
    "#     def __len__(self):\n",
    "#         if len(self.masksgt)==len(self.masksdt):\n",
    "#             return len(self.masksgt)\n",
    "#         else:\n",
    "#             raise ValueError('The length of the ground truth and detections differs!')\n",
    "\n",
    "#     def wrapper(self,func):\n",
    "#         results=[]\n",
    "#         for maskgt,maskdt in zip(self.masksgt,self.masksdt):\n",
    "#             if isinstance(maskdt,np.ndarray) and isinstance(maskgt,np.ndarray):\n",
    "#                 results.append(func(maskgt,maskdt))\n",
    "#             else:\n",
    "#                 raise TypeError('\"maskdt\" or \"maskgt\" should be np.ndarray, but get {} and {}.' \\\n",
    "#                                 .format(type(maskdt),type(maskgt)))\n",
    "                                \n",
    "#         return results\n",
    "    \n",
    "#     @property\n",
    "#     def mean_dice(self):\n",
    "#         return np.mean(self.wrapper(_dice))"
   ]
  },
  {
   "cell_type": "code",
   "execution_count": 23,
   "metadata": {},
   "outputs": [
    {
     "data": {
      "text/plain": [
       "True"
      ]
     },
     "execution_count": 23,
     "metadata": {},
     "output_type": "execute_result"
    }
   ],
   "source": []
  },
  {
   "cell_type": "code",
   "execution_count": 21,
   "metadata": {},
   "outputs": [
    {
     "data": {
      "text/plain": [
       "0.7374394698566026"
      ]
     },
     "execution_count": 21,
     "metadata": {},
     "output_type": "execute_result"
    }
   ],
   "source": [
    "from maskrcnn_benchmark.utils.validation import EvalMetric\n",
    "eval_metric=EvalMetric(masksgt,masksdt)\n",
    "eval_metric.mean_dice"
   ]
  },
  {
   "cell_type": "code",
   "execution_count": null,
   "metadata": {},
   "outputs": [],
   "source": [
    "from maskrcnn_benchmark.utils.earlystop import EarlyStopping"
   ]
  },
  {
   "cell_type": "code",
   "execution_count": null,
   "metadata": {},
   "outputs": [],
   "source": [
    "def do_train(\n",
    "    model,\n",
    "    data_loader,\n",
    "    optimizer,\n",
    "    scheduler,\n",
    "    checkpointer,\n",
    "    device,\n",
    "    checkpoint_period,\n",
    "    arguments,\n",
    "    cfg,\n",
    "    distributed=False,\n",
    "):\n",
    "    logger = logging.getLogger(\"maskrcnn_benchmark.trainer\")\n",
    "    logger.info(\"Start training\")\n",
    "    meters = MetricLogger(delimiter=\"  \")\n",
    "    max_iter = len(data_loader)\n",
    "    start_iter = arguments[\"iteration\"] # 0 at start\n",
    "    \n",
    "    ######## optional for evaluation ########\n",
    "    if cfg.DATASETS.VAL:\n",
    "        # load masks\n",
    "        _,ann_file=DatasetCatalog.DATASETS[cfg.DATASETS.VAL[0]].values()\n",
    "        data_dir=DatasetCatalog.DATA_DIR\n",
    "        annFile=data_dir+'/'+ann_file\n",
    "        \n",
    "        coco=COCO(annFile)\n",
    "        imgIds=coco.getImgIds()\n",
    "        print('Loading the masks...')\n",
    "        masksgt=[]\n",
    "        for imgId in imgIds:\n",
    "            annIds=coco.getAnnIds(imgIds=imgId)\n",
    "            anns=coco.loadAnns(annIds)\n",
    "            maskgt=[coco.annToMask(ann) for ann in anns]\n",
    "            masksgt.append((np.sum(maskgt,0)>0).astype(np.uint8))\n",
    "        imgsInfo=coco.loadImgs(imgIds)\n",
    "        whs=[(img['width'],img['height']) for img in imgsInfo]\n",
    "        print('Loading Complete!')\n",
    "        \n",
    "        # conifgurations for loading the data\n",
    "        iou_types = (\"bbox\",)\n",
    "        if cfg.MODEL.MASK_ON:\n",
    "            iou_types = iou_types + (\"segm\",)\n",
    "            dataset_name = cfg.DATASETS.VAL\n",
    "        if len(dataset_name)>1: # TODO: add support for multiple datasets\n",
    "            raise ValueError('Only support the single validation set, but get {}!'.format(len(dataset_name)))\n",
    "        data_loader_val = make_data_loader(cfg, is_train=False, is_val=True, is_distributed=distributed)\n",
    "        \n",
    "        ## early stop ##\n",
    "        if cfg.PATIENCE:\n",
    "            early_stopping = EarlyStopping(patience=cfg.PATIENCE, verbose=True)\n",
    "    ##########################################\n",
    "    \n",
    "    model.train() # begin training\n",
    "    start_training_time = time.time() \n",
    "    end = time.time()\n",
    "    \n",
    "    for iteration, (images, targets, _) in enumerate(data_loader, start_iter):\n",
    "        data_time = time.time() - end\n",
    "        \n",
    "        # add ignore \n",
    "        if len(targets[0]) < 1:\n",
    "            print('num_boxes: ', len(targets[0]))\n",
    "            continue\n",
    "        \n",
    "        iteration = iteration + 1\n",
    "        arguments[\"iteration\"] = iteration\n",
    "       \n",
    "        \n",
    "        scheduler.step()\n",
    "\n",
    "        images = images.to(device)\n",
    "        targets = [target.to(device) for target in targets]\n",
    "\n",
    "        loss_dict = model(images, targets)\n",
    "\n",
    "        losses = sum(loss for loss in loss_dict.values())\n",
    "\n",
    "        # reduce losses over all GPUs for logging purposes\n",
    "        loss_dict_reduced = reduce_loss_dict(loss_dict)\n",
    "        losses_reduced = sum(loss for loss in loss_dict_reduced.values())\n",
    "        meters.update(loss=losses_reduced, **loss_dict_reduced)\n",
    "\n",
    "        optimizer.zero_grad()\n",
    "        losses.backward()\n",
    "        optimizer.step()\n",
    "\n",
    "        batch_time = time.time() - end\n",
    "        end = time.time()\n",
    "        meters.update(time=batch_time, data=data_time)\n",
    "\n",
    "        eta_seconds = meters.time.global_avg * (max_iter - iteration)\n",
    "        eta_string = str(datetime.timedelta(seconds=int(eta_seconds)))\n",
    "        \n",
    "        # give all the information\n",
    "        if iteration % 20 == 0 or iteration == max_iter:\n",
    "            logger.info(\n",
    "                meters.delimiter.join(\n",
    "                    [\n",
    "                        \"eta: {eta}\",\n",
    "                        \"iter: {iter}\",\n",
    "                        \"{meters}\",\n",
    "                        \"lr: {lr:.6f}\",\n",
    "                        \"max mem: {memory:.0f}\",\n",
    "                    ]\n",
    "                ).format(\n",
    "                    eta=eta_string,\n",
    "                    iter=iteration,\n",
    "                    meters=str(meters),\n",
    "                    lr=optimizer.param_groups[0][\"lr\"],\n",
    "                    memory=torch.cuda.max_memory_allocated() / 1024.0 / 1024.0,\n",
    "                )\n",
    "            )\n",
    "        if iteration % checkpoint_period == 0:\n",
    "            ################## add evaluation here #####################\n",
    "            if cfg.DATASETS.VAL:\n",
    "                predictions=inference(\n",
    "                                        model.module,\n",
    "                                        data_loader_val,\n",
    "                                        dataset_name=dataset_name,\n",
    "                                        iou_types=iou_types,\n",
    "                                        box_only=cfg.MODEL.RPN_ONLY,\n",
    "                                        device=cfg.MODEL.DEVICE,\n",
    "                                        expected_results=cfg.TEST.EXPECTED_RESULTS,\n",
    "                                        expected_results_sigma_tol=cfg.TEST.EXPECTED_RESULTS_SIGMA_TOL,\n",
    "                                        only_predictions=True\n",
    "                                    )\n",
    "                synchronize()\n",
    "                model.train() # reset training\n",
    "                \n",
    "                print('Loading the predictions...')\n",
    "                masksdt=[]\n",
    "                for i,prediction in enumerate(predictions):\n",
    "                    prediction=prediction.resize(whs[i])\n",
    "                    maskdt=prediction.get_field('mask')\n",
    "                    masker=Masker()\n",
    "                    if list(maskdt.shape[-2:]) != list(whs[i][::-1]):\n",
    "                        maskdt = masker(maskdt.expand(1, -1, -1, -1, -1), prediction)\n",
    "                        maskdt = maskdt[0]\n",
    "                    maskdt=maskdt.numpy().sum((0,1))\n",
    "                    maskdt=(maskdt>0).astype(np.uint8)\n",
    "                    masksdt.append(maskdt)\n",
    "                print('Loading Complete!')\n",
    "                eval_metric=EvalMetric(masksgt,masksdt)\n",
    "                mean_dice=eval_metric.mean_dice\n",
    "                logger.info('The mean dice coefficient: {}'.format(mean_dice))\n",
    "                \n",
    "                ## early stop ##\n",
    "                if 'early_stopping' in dir():\n",
    "                    early_stopping(mean_dice,logger)\n",
    "\n",
    "                    if early_stopping.early_stop:\n",
    "                        logger.info('Early stopping')\n",
    "                        checkpointer.save(\"model_final\", **arguments)\n",
    "                        break\n",
    "                    else:\n",
    "                        checkpointer.save(\"model_{:07d}\".format(iteration), **arguments)\n",
    "            else:\n",
    "                checkpointer.save(\"model_{:07d}\".format(iteration), **arguments)\n",
    "            #############################################################\n",
    "            \n",
    "            \n",
    "        if iteration == max_iter:\n",
    "            checkpointer.save(\"model_final\", **arguments)\n",
    "\n",
    "    total_training_time = time.time() - start_training_time\n",
    "    total_time_str = str(datetime.timedelta(seconds=total_training_time))\n",
    "    logger.info(\n",
    "        \"Total training time: {} ({:.4f} s / it)\".format(\n",
    "            total_time_str, total_training_time / (max_iter)\n",
    "        )\n",
    "    )\n"
   ]
  },
  {
   "cell_type": "code",
   "execution_count": null,
   "metadata": {},
   "outputs": [],
   "source": []
  }
 ],
 "metadata": {
  "kernelspec": {
   "display_name": "Python 3",
   "language": "python",
   "name": "python3"
  },
  "language_info": {
   "codemirror_mode": {
    "name": "ipython",
    "version": 3
   },
   "file_extension": ".py",
   "mimetype": "text/x-python",
   "name": "python",
   "nbconvert_exporter": "python",
   "pygments_lexer": "ipython3",
   "version": "3.7.1"
  }
 },
 "nbformat": 4,
 "nbformat_minor": 2
}
