{
 "cells": [
  {
   "cell_type": "code",
   "execution_count": 12,
   "metadata": {},
   "outputs": [],
   "source": [
    "import pandas as pd\n",
    "import os\n",
    "import numpy as np\n",
    "import matplotlib.pyplot as plt\n",
    "import pycocotools.mask as mask_utils\n",
    "import json\n",
    "from tqdm import tqdm\n",
    "from numpy.random import choice,seed\n",
    "from numba import jit\n",
    "from skimage import measure"
   ]
  },
  {
   "cell_type": "code",
   "execution_count": null,
   "metadata": {},
   "outputs": [],
   "source": [
    "@jit(nopython=True)\n",
    "def bimask_to_rle(binary_mask):\n",
    "    rle=[]\n",
    "    # flatten the bimask into vector\n",
    "    flat_bimask = binary_mask.T.flatten().astype(np.uint8)\n",
    "    # check the first element\n",
    "    if flat_bimask[0]==1:\n",
    "        rle.append(0)\n",
    "    num=flat_bimask[0]\n",
    "    counter=1\n",
    "    # iteration\n",
    "    for i in range(1,len(flat_bimask)): \n",
    "        if num==flat_bimask[i]:\n",
    "            counter+=1\n",
    "        else:\n",
    "            num=flat_bimask[i]\n",
    "            rle.append(counter)\n",
    "            counter=1\n",
    "    # update for the last counter\n",
    "    rle.append(counter)\n",
    "    return rle\n",
    "@jit(nopython=True)\n",
    "def encpix_to_bimask(encpix,h,w):\n",
    "    vec_mask=np.zeros(h*w) # vectorize mask\n",
    "    for i in range(len(encpix)):\n",
    "        if i%2==1:\n",
    "            start=encpix[i-1]-1\n",
    "            end=start+encpix[i]\n",
    "            vec_mask[start:end]=1\n",
    "    bimask=vec_mask.reshape(w,h).T # binary mask\n",
    "    return bimask\n",
    "\n",
    "# following codes from https://github.com/waspinator/pycococreator/blob/master/pycococreatortools/pycococreatortools.py\n",
    "\n",
    "def close_contour(contour):\n",
    "    if not np.array_equal(contour[0], contour[-1]):\n",
    "        contour = np.vstack((contour, contour[0]))\n",
    "    return contour\n",
    "\n",
    "def binary_mask_to_polygon(binary_mask, tolerance=0):\n",
    "    \"\"\"Converts a binary mask to COCO polygon representation\n",
    "    Args:\n",
    "        binary_mask: a 2D binary numpy array where '1's represent the object\n",
    "        tolerance: Maximum distance from original points of polygon to approximated\n",
    "            polygonal chain. If tolerance is 0, the original coordinate array is returned.\n",
    "    \"\"\"\n",
    "    polygons = []\n",
    "    # pad mask to close contours of shapes which start and end at an edge\n",
    "    padded_binary_mask = np.pad(binary_mask, pad_width=1, mode='constant', constant_values=0)\n",
    "    contours = measure.find_contours(padded_binary_mask, 0.5)\n",
    "    contours = np.subtract(contours, 1)\n",
    "    for contour in contours:\n",
    "        contour = close_contour(contour)\n",
    "        contour = measure.approximate_polygon(contour, tolerance)\n",
    "        if len(contour) < 3:\n",
    "            continue\n",
    "        contour = np.flip(contour, axis=1)\n",
    "        segmentation = contour.ravel().tolist()\n",
    "        # after padding and subtracting 1 we may get -0.5 points in our segmentation \n",
    "        segmentation = [0 if i < 0 else i for i in segmentation]\n",
    "        polygons.append(segmentation)"
   ]
  },
  {
   "cell_type": "code",
   "execution_count": 13,
   "metadata": {},
   "outputs": [],
   "source": [
    "def coco_dict_gen(file_dir,labels,id_lst):\n",
    "    # input: file directory [str]\n",
    "    # labels: rle/labels [dataframe]\n",
    "    # id_lst: selected image ids\n",
    "    img_lst=[]\n",
    "    anno_lst=[]\n",
    "    j=0\n",
    "    for i in tqdm(range(len(id_lst))):\n",
    "        imgid=id_lst[i]\n",
    "        # image dict\n",
    "        image_dict={}\n",
    "        # image file directory\n",
    "        image_dir=file_dir+imgid+'/images/'+imgid+'.png'\n",
    "        # load the image\n",
    "        image=plt.imread(image_dir)\n",
    "        # specify the image dict\n",
    "        image_dict['file_name']=image_dir\n",
    "        image_dict['height']=int(image.shape[0])\n",
    "        image_dict['width']=int(image.shape[1])\n",
    "        image_dict['id']=i\n",
    "        # append\n",
    "        img_lst.append(image_dict)\n",
    "\n",
    "        # annotation dict\n",
    "        for encpix in labels[labels.ImageId==imgid]['EncodedPixels']:\n",
    "            anno_dict={}\n",
    "\n",
    "            encpix=list(map(int,encpix.split(' ')))\n",
    "            bimask=encpix_to_bimask(encpix,image.shape[0],image.shape[1])\n",
    "            rle_uncprs={'counts':bimask_to_rle(bimask),'size':list(bimask.shape)}\n",
    "            rle_cprs=mask_utils.frPyObjects(rle_uncprs,image.shape[0],image.shape[1])\n",
    "            poly=binary_mask_to_polygon(bimask)\n",
    "            \n",
    "            anno_dict['image_id']=i\n",
    "            anno_dict['id']=j\n",
    "            anno_dict['category_id']=1\n",
    "            anno_dict['iscrowd']=0\n",
    "            anno_dict['segmentation']=poly#rle_uncprs\n",
    "            anno_dict['area']=float(mask_utils.area(rle_cprs))\n",
    "            anno_dict['bbox']=list(mask_utils.toBbox(rle_cprs))\n",
    "\n",
    "            anno_lst.append(anno_dict)\n",
    "            j+=1\n",
    "\n",
    "    data_dict={}\n",
    "    data_dict['info']={}\n",
    "    data_dict['licenses']=[]\n",
    "    data_dict['images']=img_lst\n",
    "    data_dict['annotations']=anno_lst\n",
    "    data_dict['categories']=[{'supercategory': 'Nuclei', 'id': 1, 'name': 'mask'}]\n",
    "    \n",
    "    return data_dict"
   ]
  },
  {
   "cell_type": "markdown",
   "metadata": {},
   "source": [
    "## Training set and validation set"
   ]
  },
  {
   "cell_type": "code",
   "execution_count": 14,
   "metadata": {},
   "outputs": [],
   "source": [
    "file_dir='./stage1_train/'\n",
    "labels=pd.read_csv('stage1_train_labels.csv')\n",
    "id_lst=list(np.unique(labels.ImageId))\n",
    "n=len(id_lst)\n",
    "val_ratio=0.1"
   ]
  },
  {
   "cell_type": "code",
   "execution_count": 15,
   "metadata": {},
   "outputs": [],
   "source": [
    "seed(2018)\n",
    "val_id_lst=choice(id_lst,size=np.int(val_ratio*n),replace=False)\n",
    "train_id_lst=[i for i in id_lst if i not in val_id_lst]"
   ]
  },
  {
   "cell_type": "code",
   "execution_count": 16,
   "metadata": {},
   "outputs": [
    {
     "name": "stderr",
     "output_type": "stream",
     "text": [
      "100%|██████████| 67/67 [00:15<00:00,  7.66it/s]\n"
     ]
    },
    {
     "name": "stdout",
     "output_type": "stream",
     "text": [
      "Complete!\n"
     ]
    }
   ],
   "source": [
    "val_dict=coco_dict_gen(file_dir,labels,val_id_lst)\n",
    "with open(\"./validation.json\",\"w\",encoding='utf-8') as f:\n",
    "    json.dump(val_dict,f)\n",
    "    print(\"Complete!\")"
   ]
  },
  {
   "cell_type": "code",
   "execution_count": 17,
   "metadata": {},
   "outputs": [
    {
     "name": "stderr",
     "output_type": "stream",
     "text": [
      "100%|██████████| 603/603 [03:16<00:00,  4.40it/s]\n"
     ]
    },
    {
     "name": "stdout",
     "output_type": "stream",
     "text": [
      "Complete!\n"
     ]
    }
   ],
   "source": [
    "train_dict=coco_dict_gen(file_dir,labels,train_id_lst)\n",
    "with open(\"./train.json\",\"w\") as f:\n",
    "    json.dump(train_dict,f)\n",
    "    print(\"Complete!\")"
   ]
  },
  {
   "cell_type": "code",
   "execution_count": 18,
   "metadata": {},
   "outputs": [
    {
     "name": "stderr",
     "output_type": "stream",
     "text": [
      "100%|██████████| 670/670 [00:07<00:00, 95.50it/s] \n"
     ]
    }
   ],
   "source": [
    "# mean \n",
    "import PIL.Image as plimg\n",
    "h_lst=[]\n",
    "w_lst=[]\n",
    "pix_mean=[]\n",
    "for i in tqdm(range(len(id_lst))):\n",
    "    imgid=id_lst[i]\n",
    "    # image dict\n",
    "    image_dict={}\n",
    "    # image file directory\n",
    "    image_dir=file_dir+imgid+'/images/'+imgid+'.png'\n",
    "    # load the image\n",
    "    image=np.array(plimg.open(image_dir))\n",
    "    h_lst.append(image.shape[0])\n",
    "    w_lst.append(image.shape[1])\n",
    "    pix_mean.append(np.mean(image[:,:,:3],axis=(0,1)))"
   ]
  },
  {
   "cell_type": "code",
   "execution_count": 19,
   "metadata": {},
   "outputs": [
    {
     "name": "stdout",
     "output_type": "stream",
     "text": [
      "1388\n",
      "256\n"
     ]
    },
    {
     "data": {
      "text/plain": [
       "array([43.53287505, 39.56061986, 48.22454996])"
      ]
     },
     "execution_count": 19,
     "metadata": {},
     "output_type": "execute_result"
    }
   ],
   "source": [
    "print(np.max(h_lst+w_lst))\n",
    "print(np.min(h_lst+w_lst))\n",
    "np.mean(pix_mean,axis=0)"
   ]
  },
  {
   "cell_type": "markdown",
   "metadata": {},
   "source": [
    "## Test Set"
   ]
  },
  {
   "cell_type": "code",
   "execution_count": 20,
   "metadata": {},
   "outputs": [],
   "source": [
    "file_dir='./stage1_test/'\n",
    "labels=pd.read_csv('stage1_solution.csv')\n",
    "id_lst=list(np.unique(labels.ImageId))"
   ]
  },
  {
   "cell_type": "code",
   "execution_count": 21,
   "metadata": {},
   "outputs": [
    {
     "name": "stderr",
     "output_type": "stream",
     "text": [
      "100%|██████████| 65/65 [00:32<00:00,  1.84it/s]\n"
     ]
    },
    {
     "name": "stdout",
     "output_type": "stream",
     "text": [
      "Complete!\n"
     ]
    }
   ],
   "source": [
    "test_dict=coco_dict_gen(file_dir,labels,id_lst)\n",
    "with open(\"./test.json\",\"w\") as f:\n",
    "    json.dump(test_dict,f)\n",
    "    print(\"Complete!\")"
   ]
  },
  {
   "cell_type": "code",
   "execution_count": 22,
   "metadata": {},
   "outputs": [
    {
     "name": "stdout",
     "output_type": "stream",
     "text": [
      "524 256\n",
      "696 161\n"
     ]
    }
   ],
   "source": [
    "print(labels.Height.max(),labels.Height.min())\n",
    "print(labels.Width.max(),labels.Width.min())"
   ]
  },
  {
   "cell_type": "code",
   "execution_count": 23,
   "metadata": {},
   "outputs": [
    {
     "data": {
      "text/plain": [
       "0.8888888888888888"
      ]
     },
     "execution_count": 23,
     "metadata": {},
     "output_type": "execute_result"
    }
   ],
   "source": [
    "64/72"
   ]
  },
  {
   "cell_type": "code",
   "execution_count": null,
   "metadata": {},
   "outputs": [],
   "source": []
  }
 ],
 "metadata": {
  "kernelspec": {
   "display_name": "Python 3",
   "language": "python",
   "name": "python3"
  },
  "language_info": {
   "codemirror_mode": {
    "name": "ipython",
    "version": 3
   },
   "file_extension": ".py",
   "mimetype": "text/x-python",
   "name": "python",
   "nbconvert_exporter": "python",
   "pygments_lexer": "ipython3",
   "version": "3.7.1"
  },
  "toc": {
   "base_numbering": 1,
   "nav_menu": {},
   "number_sections": true,
   "sideBar": true,
   "skip_h1_title": false,
   "title_cell": "Table of Contents",
   "title_sidebar": "Contents",
   "toc_cell": false,
   "toc_position": {},
   "toc_section_display": true,
   "toc_window_display": false
  },
  "varInspector": {
   "cols": {
    "lenName": 16,
    "lenType": 16,
    "lenVar": 40
   },
   "kernels_config": {
    "python": {
     "delete_cmd_postfix": "",
     "delete_cmd_prefix": "del ",
     "library": "var_list.py",
     "varRefreshCmd": "print(var_dic_list())"
    },
    "r": {
     "delete_cmd_postfix": ") ",
     "delete_cmd_prefix": "rm(",
     "library": "var_list.r",
     "varRefreshCmd": "cat(var_dic_list()) "
    }
   },
   "types_to_exclude": [
    "module",
    "function",
    "builtin_function_or_method",
    "instance",
    "_Feature"
   ],
   "window_display": false
  }
 },
 "nbformat": 4,
 "nbformat_minor": 2
}
